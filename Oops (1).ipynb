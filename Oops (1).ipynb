{
 "cells": [
  {
   "cell_type": "markdown",
   "id": "beae71f9-39b5-43d3-b0d2-25138cd8e0c5",
   "metadata": {},
   "source": [
    "Que-1 What is Object-Oriented Programming (OOP)?\n",
    "Ans-1 Object-Oriented Programming (OOP) is a programming paradigm based on the concept of “objects,” which are instances of classes. It organizes software design around data (objects) rather than functions and logic.\n",
    "Class – A blueprint for creating objects (defines attributes and behaviors).\n",
    "Object – An instance of a class with actual values.\n",
    "Encapsulation – Hiding internal details and exposing only necessary parts.\n",
    "Abstraction – Showing only essential features and hiding the complexity.\n",
    "Inheritance – One class can inherit properties and methods from another.\n",
    "Polymorphism – One interface, many implementations (method overloading/overriding)."
   ]
  },
  {
   "cell_type": "markdown",
   "id": "75f9ed52-5343-4597-badd-7165f21dd0fa",
   "metadata": {},
   "source": [
    "Que-2 What is a class in OOP?\n",
    "Ans-2 A class in Object-Oriented Programming (OOP) is a blueprint or template for creating objects. It defines a set of attributes (data) and methods (functions) that the objects created from the class will have."
   ]
  },
  {
   "cell_type": "markdown",
   "id": "52d48aab-02d5-44c4-a969-636a4cd4ff53",
   "metadata": {},
   "source": [
    "Que-3 What is an object in OOP?\n",
    "Ans-3 An object in Object-Oriented Programming (OOP) is an instance of a class. It represents a real-world entity that has attributes (data) and behaviors (methods) defined by its class."
   ]
  },
  {
   "cell_type": "markdown",
   "id": "5015620d-fd09-4510-abeb-26ef1a77dfae",
   "metadata": {},
   "source": [
    "Que-4 What is the difference between abstraction and encapsulation?\n",
    "Ans-4 Abstraction hides complex details and shows only the essential features to the user, focusing on what an object does.\n",
    "Encapsulation hides the internal state of an object by restricting direct access, focusing on how the data is protected."
   ]
  },
  {
   "cell_type": "markdown",
   "id": "9dde70cb-2b38-40ee-8fcb-84272ce860a5",
   "metadata": {},
   "source": [
    "Que-5 What are dunder methods in Python?\n",
    "\n",
    "Ans-5 Dunder methods in Python (short for \"double underscore\" methods) are special methods that have double underscores before and after their names, like __init__, __str__, __len__, etc. They are also called magic methods.\n",
    "\n",
    "Used to define how objects behave with built-in functions and operators.\n",
    "\n",
    "Automatically called by Python in certain situations.\n",
    "\n",
    "__init__(self): Constructor, called when an object is created.\n",
    "\n",
    "__str__(self): Defines the string representation of an object.\n",
    "\n",
    "__len__(self): Called by len() function.\n",
    "\n",
    "__add__(self, other): Defines behavior for the + operator."
   ]
  },
  {
   "cell_type": "markdown",
   "id": "ed9a4837-2135-4aae-8e96-6dda2ea31a0a",
   "metadata": {},
   "source": [
    "Que-6 Explain the concept of inheritance in OOP?\n",
    "\n",
    "Ans-6 Inheritance is a fundamental concept in OOP where one class (child or subclass) inherits the properties and methods of another class (parent or superclass). It allows code reuse, reduces redundancy, and supports hierarchical classification.\n",
    "\n",
    "The child class can access and use the attributes and methods of the parent class.\n",
    "\n",
    "It can also have its own methods or override the parent’s methods.\n",
    "\n",
    "Promotes reusability and extensibility in code."
   ]
  },
  {
   "cell_type": "markdown",
   "id": "a36a7f6f-6796-4b83-b75f-39666b5f2e94",
   "metadata": {},
   "source": [
    "Que-7 What is polymorphism in OOP?\n",
    "\n",
    "Ans-7 Polymorphism means “many forms”. In Object-Oriented Programming, it allows objects of different classes to be treated as objects of a common superclass, especially when they share a method name but behave differently.\n",
    "\n",
    "Compile-time (Method Overloading) – Same method name with different parameters (not natively supported in Python).\n",
    "\n",
    "Run-time (Method Overriding) – Subclass defines a method with the same name as in the parent class."
   ]
  },
  {
   "cell_type": "markdown",
   "id": "16e4a501-a50e-4d5d-b278-dae8859c8952",
   "metadata": {},
   "source": [
    "Que-8 How is encapsulation achieved in Python?\n",
    "\n",
    "Ans-8 Using classes to bundle data (attributes) and methods together.\n",
    "\n",
    "Restricting access to data by:\n",
    "\n",
    "Using access modifiers:\n",
    "\n",
    " public (default) → accessible everywhere.\n",
    "\n",
    " protected → a convention to suggest limited access (not enforced).\n",
    "\n",
    " private → name mangling makes it harder to access from outside.\n",
    "\n",
    "Using getter and setter methods to control access to private variables."
   ]
  },
  {
   "cell_type": "markdown",
   "id": "b192a29d-ebdb-42a1-a4a1-f6167c9af04f",
   "metadata": {},
   "source": [
    "Que-9 What is a constructor in Python?\n",
    "Ans-9 A constructor in Python is a special method used to initialize objects of a class when they are created.\n",
    "It is defined using the __init__() method and is automatically called when a new object is instantiated."
   ]
  },
  {
   "cell_type": "markdown",
   "id": "18538dc0-bc10-43f5-adae-6bd577ccc31e",
   "metadata": {},
   "source": [
    "Que-10 What are class and static methods in Python?\n",
    "Ans-10 Both are special types of methods that don’t behave like normal instance methods, and they are defined using decorators.\n",
    "Class Method (@classmethod)\n",
    "Works with the class, not the instance.\n",
    "Takes cls as the first parameter (not self).\n",
    "Can access or modify class variables.\n",
    "Static Method (@staticmethod)\n",
    "Does not take self or cls as the first argument.\n",
    "Can't access instance or class data directly.\n",
    "Used when some logic is related to the class but doesn’t need access to class or instance."
   ]
  },
  {
   "cell_type": "markdown",
   "id": "ab996d5d-8183-4111-be98-0ef54eff4cdb",
   "metadata": {},
   "source": [
    "Que-11 What is method overloading in Python?\n",
    "Ans-11 Method Overloading refers to the ability to define multiple methods with the same name but different arguments (number or type)."
   ]
  },
  {
   "cell_type": "markdown",
   "id": "bc320ba9-3902-49c6-bd58-6b879e3757b6",
   "metadata": {},
   "source": [
    "Que-12 What is method overriding in OOP?\n",
    "Ans-12 Method Overriding occurs when a subclass provides a specific implementation of a method that is already defined in its parent class.\n",
    "It allows runtime polymorphism — the method that gets called is determined by the object’s actual class, not the reference type."
   ]
  },
  {
   "cell_type": "markdown",
   "id": "a2dbcb34-36df-4446-bb02-a12841bb22c0",
   "metadata": {},
   "source": [
    "Que-13 What is a property decorator in Python?\n",
    "Ans-13 In Python, the @property decorator is used to define a method as a read-only attribute (i.e., a getter) without calling it like a method. It allows you to access a method like an attribute, enabling encapsulation and controlled access to class attributes."
   ]
  },
  {
   "cell_type": "markdown",
   "id": "6847c3e1-6e13-4561-b0e7-f07db1c2d253",
   "metadata": {},
   "source": [
    "Que-14 Why is polymorphism important in OOP?\n",
    "Ans-14 Polymorphism allows objects of different classes to be treated as objects of a common superclass. It enables the same interface to behave differently depending on the underlying object type."
   ]
  },
  {
   "cell_type": "markdown",
   "id": "7d16df5d-fd6b-49df-b5ef-8d16831e0431",
   "metadata": {},
   "source": [
    "Que-15 What is an abstract class in Python?\n",
    "Ans-15 An abstract class in Python is a class that cannot be instantiated directly and is used to define a common interface for its subclasses.\n",
    "It may contain abstract methods (declared but not implemented) that must be implemented by any subclass."
   ]
  },
  {
   "cell_type": "markdown",
   "id": "8759fdf6-683b-4ccd-9589-197004aa090d",
   "metadata": {},
   "source": [
    "Que-16 What are the advantages of OOP?\n",
    "Ans-16 Object-Oriented Programming (OOP) offers a structured and modular approach to software design by organizing code around objects rather than functions and logic.\n",
    "Features OOPs gives-\n",
    "    Reusability, Encapsulation, Maintainability, Polymorphism, Inheritance."
   ]
  },
  {
   "cell_type": "markdown",
   "id": "371bb080-7d36-43ec-bda0-b9c58c0e0eeb",
   "metadata": {},
   "source": [
    "Que-17 What is the difference between a class variable and an instance variable?\n",
    "Ans-17 class variable is shared by all instances of a class and is defined outside any method, while an instance variable is unique to each object and defined using self inside the __init__ method. Class variables store common data, whereas instance variables hold object-specific data. If both have the same name, the instance variable overrides the class variable when accessed through the object."
   ]
  },
  {
   "cell_type": "markdown",
   "id": "9fe59d36-3ac8-49df-aed7-212cf9729af4",
   "metadata": {},
   "source": [
    "Que-18 What is multiple inheritance in Python?\n",
    "Ans-18 Multiple Inheritance in Python is a feature that allows a class to inherit attributes and methods from more than one parent class. This means a child class can access the functionalities of multiple base classes. It promotes code reusability and helps in combining behaviors from different classes into one. However, it can also lead to ambiguity when two parent classes have methods with the same name. Python resolves such conflicts using the Method Resolution Order (MRO), which follows a specific order (left to right as defined in the class) to determine which method to call."
   ]
  },
  {
   "cell_type": "markdown",
   "id": "e0b6cd67-3e77-443f-9c75-7b18ddae92b5",
   "metadata": {},
   "source": [
    "Que-19 Explain the purpose of ‘’__str__’ and ‘__repr__’ ‘ methods in Python?\n",
    "Ans-19  __str__() and __repr__() are special methods used to define how an object is represented as a string."
   ]
  },
  {
   "cell_type": "markdown",
   "id": "731dff5e-70be-4c3d-8fcc-1108540b0393",
   "metadata": {},
   "source": [
    "Que-20 What is the significance of the ‘super()’ function in Python?\n",
    "Ans-20 The super() function in Python is used to call methods from a parent (or superclass) inside a child (or subclass). It helps in accessing inherited methods or constructors without directly naming the parent class. "
   ]
  },
  {
   "cell_type": "markdown",
   "id": "e233d5c2-8e7f-4ef3-b79a-400078047fa7",
   "metadata": {},
   "source": [
    "Que-21 What is the significance of the __del__ method in Python?\n",
    "Ans-21 The __del__() method is a special destructor method in Python. It is called automatically when an object is about to be destroyed, typically when it goes out of scope or is deleted using del."
   ]
  },
  {
   "cell_type": "markdown",
   "id": "68566baf-98e1-44d5-a4a8-fbfd3e548a03",
   "metadata": {},
   "source": [
    "Que-22 What is the difference between @staticmethod and @classmethod in Python?\n",
    "Ans-22 @staticmethod and @classmethod are decorators used to define methods that aren't tied to a specific instance of the class. However, they differ in functionality and use cases. A @staticmethod does not take any implicit first argument like self or cls. It behaves like a regular function but is placed inside the class for logical grouping. It cannot access or modify the class or instance state and is typically used for utility functions. On the other hand, a @classmethod takes cls as the first argument, which refers to the class itself. This allows it to access or modify class-level data and is often used for factory methods or tasks related to the class as a whole. The main difference is that @staticmethod is completely independent of the class or instance, while @classmethod is aware of the class context."
   ]
  },
  {
   "cell_type": "markdown",
   "id": "d1aea06c-d932-4c65-9444-4bbabce98393",
   "metadata": {},
   "source": [
    "Que-23 How does polymorphism work in Python with inheritance?\n",
    "Ans-23 Polymorphism in Python means \"many forms\", and it allows objects of different classes to be treated using a common interface, especially when they share a parent class.\n",
    "When used with inheritance, polymorphism enables a child class to override or extend methods of a parent class, and the correct method is called at runtime based on the object’s actual class."
   ]
  },
  {
   "cell_type": "markdown",
   "id": "89e166c8-827a-4a59-8e89-b9838f3ad91d",
   "metadata": {},
   "source": [
    "Que-24 What is method chaining in Python OOP?\n",
    "Ans-24 Method chaining in Python OOP is a technique where multiple methods are called sequentially on the same object in a single line, by returning self at the end of each method. This allows you to write clean, readable, and fluent code."
   ]
  },
  {
   "cell_type": "markdown",
   "id": "991517dc-ddf6-4b32-a7d6-3c5fcbb0a6fd",
   "metadata": {},
   "source": [
    "Que-25 What is the purpose of the __call__ method in Python?\n",
    "Ans-25 The __call__() method in Python allows an instance of a class to be called like a function. When defined in a class, it enables objects of that class to be invoked using parentheses (), just like regular functions."
   ]
  },
  {
   "cell_type": "code",
   "execution_count": null,
   "id": "cc3c41af-581e-4fc6-9322-d741e8e8bca2",
   "metadata": {},
   "outputs": [],
   "source": [
    "# Practical Questions"
   ]
  },
  {
   "cell_type": "code",
   "execution_count": null,
   "id": "38c24159-f5ad-4053-b9bd-98bf5db78f84",
   "metadata": {},
   "outputs": [],
   "source": [
    "# Que-1  Create a parent class Animal with a method speak() that prints a generic message. Create a child class Dog that overrides the speak() method to print \"Bark!\"\n",
    "class Animal:\n",
    "    def speak():\n",
    "        print(\"I am animal\")\n",
    "\n",
    "class Dog(Animal):\n",
    "    def speak():\n",
    "        print(\"Bark\")"
   ]
  },
  {
   "cell_type": "code",
   "execution_count": 15,
   "id": "410a25ec-aad5-4ff0-b8e5-ff0514e80cda",
   "metadata": {},
   "outputs": [
    {
     "name": "stdout",
     "output_type": "stream",
     "text": [
      "Circle Area: 78.5\n",
      "Rectangle Area: 12.0\n"
     ]
    }
   ],
   "source": [
    "# Que-2  Write a program to create an abstract class Shape with a method area(). Derive classes Circle and Rectangle from it and implement the area() method in both.\n",
    "from abc import ABC, abstractmethod\n",
    "class Shape():\n",
    "    @abstractmethod\n",
    "    def area(self):\n",
    "        pass\n",
    "class Circle(Shape):\n",
    "    def __init__(self,radius):\n",
    "        self.radius = radius\n",
    "    def area(self):\n",
    "        return 3.14*self.radius**2\n",
    "class Rectangle(Shape):\n",
    "    def __init__(self,length,breath):\n",
    "        self.length = length\n",
    "        self.breath = breath\n",
    "    def area(self):\n",
    "        return 1/2*self.length*self.breath\n",
    "\n",
    "circle = Circle(5)\n",
    "rectangle = Rectangle(4, 6)\n",
    "\n",
    "print(\"Circle Area:\", circle.area())       \n",
    "print(\"Rectangle Area:\", rectangle.area())"
   ]
  },
  {
   "cell_type": "code",
   "execution_count": null,
   "id": "af68bebd-8e36-41e6-b1c1-e21718207458",
   "metadata": {},
   "outputs": [],
   "source": [
    "# Que-3  Implement a multi-level inheritance scenario where a class Vehicle has an attribute type. Derive a class Car and further derive a class ElectricCar that adds a battery attribute.\n",
    "# Base class\n",
    "class Vehicle:\n",
    "    def __init__(self, type):\n",
    "        self.type = type\n",
    "\n",
    "# Derived class from Vehicle\n",
    "class Car(Vehicle):\n",
    "    def __init__(self, type, brand):\n",
    "        super().__init__(type)\n",
    "        self.brand = brand\n",
    "\n",
    "\n",
    "# Derived class from Car\n",
    "class ElectricCar(Car):\n",
    "    def __init__(self, type, brand, battery_capacity):\n",
    "        super().__init__(type, brand)\n",
    "        self.battery = battery_capacity"
   ]
  },
  {
   "cell_type": "code",
   "execution_count": 18,
   "id": "09c28de6-86c5-42d3-8e65-6b2545feb7b9",
   "metadata": {},
   "outputs": [
    {
     "name": "stdout",
     "output_type": "stream",
     "text": [
      "I am Bird i can fly\n",
      "I am Sparrow i can fly\n",
      "I am Penguin i can fly\n"
     ]
    }
   ],
   "source": [
    "# Que-4 Demonstrate polymorphism by creating a base class Bird with a method fly(). Create two derived classes Sparrow and Penguin that override the fly() method. \n",
    "class Bird:\n",
    "    def fly(self):\n",
    "        print(\"I am Bird i can fly\")\n",
    "\n",
    "class Sparrow(Bird):\n",
    "    def fly(self):\n",
    "        print(\"I am Sparrow i can fly\")\n",
    "\n",
    "class Penguin(Bird):\n",
    "    def fly(self):\n",
    "        print(\"I am Penguin i can fly\")\n",
    "B1 = Bird()\n",
    "B2 = Sparrow()\n",
    "B3 = Penguin()\n",
    "\n",
    "def call_Bird(Bird):\n",
    "    Bird.fly()\n",
    "\n",
    "call_Bird(B1)\n",
    "call_Bird(B2)\n",
    "call_Bird(B3)"
   ]
  },
  {
   "cell_type": "code",
   "execution_count": 30,
   "id": "c860ba49-23f8-47af-99fe-0dff9b9472b5",
   "metadata": {},
   "outputs": [
    {
     "name": "stdout",
     "output_type": "stream",
     "text": [
      "amount added 1000\n",
      "amount 500 withdrawn \n",
      "Current balance is: 1500\n"
     ]
    }
   ],
   "source": [
    "# Que-5 Write a program to demonstrate encapsulation by creating a class BankAccount with private attributes balance and methods to deposit, withdraw, and check balance.\n",
    "class BankAccount:\n",
    "    def __init__(self,inital_balance):\n",
    "        self.__balance = inital_balance\n",
    "        \n",
    "    def deposit(self,deposit_amount):\n",
    "        if deposit_amount>0:\n",
    "            self.__balance += deposit_amount \n",
    "            print(f\"amount added {deposit_amount}\")\n",
    "        else:\n",
    "            print(\"negitive value\")\n",
    "\n",
    "    def withdraw(self,withdraw_amount):\n",
    "        if self.__balance < withdraw_amount:\n",
    "            print(\"current balance is less han your demand\")\n",
    "        else:\n",
    "            self.__balance -= withdraw_amount\n",
    "            print(f\"amount {withdraw_amount} withdrawn \")\n",
    "\n",
    "    def back_balance(self):\n",
    "        print(f\"Current balance is: {self.__balance}\")\n",
    "\n",
    "b = BankAccount(1000)\n",
    "b.deposit(1000)\n",
    "b.withdraw(500)\n",
    "b.back_balance()"
   ]
  },
  {
   "cell_type": "code",
   "execution_count": 32,
   "id": "927b8385-b6b8-442b-8f0b-051347918dd8",
   "metadata": {},
   "outputs": [
    {
     "name": "stdout",
     "output_type": "stream",
     "text": [
      "this is the Guitar\n",
      "this is the Piano\n",
      "this is the instrument\n"
     ]
    }
   ],
   "source": [
    "#Que-6 Demonstrate runtime polymorphism using a method play() in a base class Instrument. Derive classes Guitar and Piano that implement their own version of play()\n",
    "class Instrument:\n",
    "    def play(self):\n",
    "        print(\"this is the instrument\")\n",
    "\n",
    "class Guitar(Instrument):\n",
    "    def play(self):\n",
    "        print(\"this is the Guitar\")\n",
    "\n",
    "class Piano(Instrument):\n",
    "    def play(self):\n",
    "        print(\"this is the Piano\")\n",
    "\n",
    "def play_Instrumrnt(Instrument):\n",
    "    Instrument.play()\n",
    "\n",
    "g = Guitar()\n",
    "p = Piano()\n",
    "i = Instrument()\n",
    "\n",
    "play_Instrumrnt(g)\n",
    "play_Instrumrnt(p)\n",
    "play_Instrumrnt(i)\n",
    "        "
   ]
  },
  {
   "cell_type": "code",
   "execution_count": 33,
   "id": "2bd3d369-8f95-40a0-a049-c0a217ea8369",
   "metadata": {},
   "outputs": [
    {
     "name": "stdout",
     "output_type": "stream",
     "text": [
      "Sum: 15\n",
      "Difference: 5\n"
     ]
    }
   ],
   "source": [
    "# Que- 7 Create a class MathOperations with a class method add_numbers() to add two numbers and a static method subtract_numbers() to subtract two numbers.\n",
    "class MathOperations:\n",
    "    \n",
    "    @classmethod\n",
    "    def add(cls, a, b):\n",
    "        return a + b\n",
    "\n",
    "    @staticmethod\n",
    "    def subtract(a, b):\n",
    "        return a - b\n",
    "sum_result = MathOperations.add(10, 5)\n",
    "diff_result = MathOperations.subtract(10, 5)\n",
    "\n",
    "print(\"Sum:\", sum_result)          \n",
    "print(\"Difference:\", diff_result)  \n"
   ]
  },
  {
   "cell_type": "code",
   "execution_count": 15,
   "id": "381b7d2b-e10f-46ec-9cf4-d92482aeed4e",
   "metadata": {},
   "outputs": [
    {
     "name": "stdout",
     "output_type": "stream",
     "text": [
      "The total person:  3\n"
     ]
    }
   ],
   "source": [
    "# Que-8 Implement a class Person with a class method to count the total number of persons created.\n",
    "class Person:\n",
    "    count = 0\n",
    "    def __init__(self,name):\n",
    "        self.name = name\n",
    "        Person.count = Person.count + 1\n",
    "\n",
    "    # @classmethod\n",
    "    def giveCount(self):\n",
    "        print(\"The total person: \",self.count)\n",
    "p = Person(\"Jay\")\n",
    "p2 = Person(\"Palak\")\n",
    "p3 = Person(\"Palak\")\n",
    "# p.giveCount()\n",
    "p2.giveCount()"
   ]
  },
  {
   "cell_type": "code",
   "execution_count": 21,
   "id": "9dfe6def-5500-4973-8f55-c141a8f40ba3",
   "metadata": {},
   "outputs": [
    {
     "name": "stdout",
     "output_type": "stream",
     "text": [
      "1.5\n"
     ]
    }
   ],
   "source": [
    "# Que-9 Write a class Fraction with attributes numerator and denominator. Override the str method to display the fraction as \"numerator/denominator\"\n",
    "class Fraction:\n",
    "    def __init__(self,numerator,denominator):\n",
    "        self.numerator = numerator\n",
    "        self.denominator = denominator\n",
    "\n",
    "    def __str__(self):\n",
    "        return str(self.numerator/self.denominator)\n",
    "\n",
    "f = Fraction(3,2)\n",
    "print(f)"
   ]
  },
  {
   "cell_type": "code",
   "execution_count": 7,
   "id": "474bd3ab-0f36-4978-9743-650942a784b2",
   "metadata": {},
   "outputs": [
    {
     "name": "stdout",
     "output_type": "stream",
     "text": [
      "v1 + v2 = (8, 10)\n"
     ]
    },
    {
     "name": "stderr",
     "output_type": "stream",
     "text": [
      "<>:11: SyntaxWarning: 'str' object is not callable; perhaps you missed a comma?\n",
      "C:\\Users\\HP\\AppData\\Local\\Temp\\ipykernel_4548\\3667050426.py:11: SyntaxWarning: 'str' object is not callable; perhaps you missed a comma?\n",
      "  return f\"vector\"({self.x}, {self.y})\n"
     ]
    }
   ],
   "source": [
    "# Que-10 Demonstrate operator overloading by creating a class Vector and overriding the add method to add two vectors.\n",
    "\n",
    "# Ans-10\n",
    "class Vector:\n",
    "    def __init__(self, x, y):\n",
    "        self.x = x\n",
    "        self.y = y\n",
    "    def __add__(self, other):\n",
    "        return (self.x + other.x, self.y + other.y)\n",
    "    def __str__(self):\n",
    "        return f\"vector\"({self.x}, {self.y})\n",
    "\n",
    "v1 = Vector(3,4)\n",
    "v2 = Vector(5,6)\n",
    "\n",
    "v3 = v1 + v2\n",
    "\n",
    "print(\"v1 + v2 =\",v3)"
   ]
  },
  {
   "cell_type": "code",
   "execution_count": 8,
   "id": "a58832f0-d501-48f5-bfeb-a135626a61c2",
   "metadata": {},
   "outputs": [
    {
     "name": "stdout",
     "output_type": "stream",
     "text": [
      "Hello, my name is Jay and I am 12 years old\n"
     ]
    }
   ],
   "source": [
    "# Que-11  Create a class Person with attributes name and age. Add a method greet() that prints \"Hello, my name is {name} and I am {age} years old.\n",
    "\n",
    "# Ans-11\n",
    "class Person:\n",
    "    def __init__(self, name, age):\n",
    "        self.name = name\n",
    "        self.age = age\n",
    "    def __str__(self):\n",
    "        return f\"Hello, my name is {self.name} and I am {self.age} years old\"\n",
    "p = Person(\"Jay\", 12)\n",
    "print(p)"
   ]
  },
  {
   "cell_type": "code",
   "execution_count": 9,
   "id": "af997428-518d-4367-a13d-5ab4b4ce331a",
   "metadata": {},
   "outputs": [
    {
     "name": "stdout",
     "output_type": "stream",
     "text": [
      "student name: Jay, avg_grade: 19.20\n"
     ]
    }
   ],
   "source": [
    "# Que-12 Implement a class Student with attributes name and grades. Create a method average_grade() to compute the average of the grades.\n",
    "\n",
    "# Ans-12\n",
    "class Student:\n",
    "    def __init__(self, name, grade):\n",
    "        self.name = name\n",
    "        self.grade = grade\n",
    "\n",
    "    def avg_grade(self):\n",
    "        if not self.grade:\n",
    "            return 0\n",
    "\n",
    "        return sum(self.grade) / len(self.grade)\n",
    "    def __str__(self):    \n",
    "        return f\"student name: {self.name}, avg_grade: {self.avg_grade():.2f}\"\n",
    "\n",
    "s = Student(\"Jay\",[12,32,43,5,4])\n",
    "print(s)"
   ]
  },
  {
   "cell_type": "code",
   "execution_count": 22,
   "id": "27c86af9-6ae1-4993-a3eb-9cc5945b91a9",
   "metadata": {},
   "outputs": [
    {
     "name": "stdout",
     "output_type": "stream",
     "text": [
      "Area of rectangle: 15\n"
     ]
    }
   ],
   "source": [
    "# Que-13 Create a class Rectangle with methods set_dimensions() to set the dimensions and area() to calculate the area.\n",
    "class Rectangle:\n",
    "    def __init__(self):\n",
    "        self.length = 0\n",
    "        self.width = 0\n",
    "\n",
    "    def set_dimensions(self, length, width):\n",
    "        self.length = length\n",
    "        self.width = width\n",
    "\n",
    "    def area(self):\n",
    "        return self.length * self.width\n",
    "\n",
    "\n",
    "# Example usage:\n",
    "rect = Rectangle()\n",
    "rect.set_dimensions(5, 3)\n",
    "print(\"Area of rectangle:\", rect.area())\n"
   ]
  },
  {
   "cell_type": "code",
   "execution_count": 23,
   "id": "70a0fcf3-a8ac-49e7-8863-a9e1eb828f81",
   "metadata": {},
   "outputs": [
    {
     "name": "stdout",
     "output_type": "stream",
     "text": [
      "Alice's Salary: ₹8000\n",
      "Bob's Salary with Bonus: ₹17000\n"
     ]
    }
   ],
   "source": [
    "# Que-14 Create a class Employee with a method calculate_salary() that computes the salary based on hours worked and hourly rate. Create a derived class Manager that adds a bonus to the salary.\n",
    "# Base class\n",
    "class Employee:\n",
    "    def __init__(self, name):\n",
    "        self.name = name\n",
    "        self.hours_worked = 0\n",
    "        self.hourly_rate = 0\n",
    "\n",
    "    def set_details(self, hours_worked, hourly_rate):\n",
    "        self.hours_worked = hours_worked\n",
    "        self.hourly_rate = hourly_rate\n",
    "\n",
    "    def calculate_salary(self):\n",
    "        return self.hours_worked * self.hourly_rate\n",
    "        \n",
    "class Manager(Employee):\n",
    "    def __init__(self, name):\n",
    "        super().__init__(name)\n",
    "        self.bonus = 0\n",
    "\n",
    "    def set_bonus(self, bonus):\n",
    "        self.bonus = bonus\n",
    "\n",
    "    def calculate_salary(self):\n",
    "        base_salary = super().calculate_salary()\n",
    "        return base_salary + self.bonus\n",
    "\n",
    "\n",
    "emp = Employee(\"Alice\")\n",
    "emp.set_details(40, 200)\n",
    "print(f\"{emp.name}'s Salary: ₹{emp.calculate_salary()}\")\n",
    "\n",
    "mgr = Manager(\"Bob\")\n",
    "mgr.set_details(40, 300)\n",
    "mgr.set_bonus(5000)\n",
    "print(f\"{mgr.name}'s Salary with Bonus: ₹{mgr.calculate_salary()}\")\n"
   ]
  },
  {
   "cell_type": "code",
   "execution_count": 24,
   "id": "9892a962-e1c7-4287-a399-9eec79d0e30b",
   "metadata": {},
   "outputs": [
    {
     "name": "stdout",
     "output_type": "stream",
     "text": [
      "Product: Laptop\n",
      "Total Price: ₹100000\n"
     ]
    }
   ],
   "source": [
    "# Que-15 Create a class Product with attributes name, price, and quantity. Implement a method total_price() that calculates the total price of the product.\n",
    "class Product:\n",
    "    def __init__(self, name, price, quantity):\n",
    "        self.name = name\n",
    "        self.price = price\n",
    "        self.quantity = quantity\n",
    "\n",
    "    def total_price(self):\n",
    "        return self.price * self.quantity\n",
    "\n",
    "item = Product(\"Laptop\", 50000, 2)\n",
    "print(f\"Product: {item.name}\")\n",
    "print(f\"Total Price: ₹{item.total_price()}\")\n"
   ]
  },
  {
   "cell_type": "code",
   "execution_count": 25,
   "id": "bf7d42f3-1594-4569-95b3-2181ef66fac3",
   "metadata": {},
   "outputs": [
    {
     "name": "stdout",
     "output_type": "stream",
     "text": [
      "Cow sound: Moo\n",
      "Sheep sound: Baa\n"
     ]
    }
   ],
   "source": [
    "# Que-16  Create a class Animal with an abstract method sound(). Create two derived classes Cow and Sheep that implement the sound() method.\n",
    "from abc import ABC, abstractmethod\n",
    "\n",
    "class Animal(ABC):\n",
    "    @abstractmethod\n",
    "    def sound(self):\n",
    "        pass\n",
    "\n",
    "class Cow(Animal):\n",
    "    def sound(self):\n",
    "        return \"Moo\"\n",
    "\n",
    "class Sheep(Animal):\n",
    "    def sound(self):\n",
    "        return \"Baa\"\n",
    "\n",
    "cow = Cow()\n",
    "sheep = Sheep()\n",
    "\n",
    "print(\"Cow sound:\", cow.sound())\n",
    "print(\"Sheep sound:\", sheep.sound())"
   ]
  },
  {
   "cell_type": "code",
   "execution_count": 27,
   "id": "9419793a-d2d7-4a4e-b19e-bdf3a3ffacae",
   "metadata": {},
   "outputs": [
    {
     "name": "stdout",
     "output_type": "stream",
     "text": [
      "'1984' by bhjv, published in 1949.\n"
     ]
    }
   ],
   "source": [
    "# Que-17 Create a class Book with attributes title, author, and year_published. Add a method get_book_info() that returns a formatted string with the book's details.\n",
    "class Book:\n",
    "    def __init__(self, title, author, year_published):\n",
    "        self.title = title\n",
    "        self.author = author\n",
    "        self.year_published = year_published\n",
    "\n",
    "    def get_book_info(self):\n",
    "        return f\"'{self.title}' by {self.author}, published in {self.year_published}.\"\n",
    "\n",
    "\n",
    "# Example usage\n",
    "book1 = Book(\"1984\", \"bhjv\", 1949)\n",
    "print(book1.get_book_info())\n"
   ]
  },
  {
   "cell_type": "code",
   "execution_count": 28,
   "id": "e4065de0-2efb-426e-84f3-1cff8b13c7ab",
   "metadata": {},
   "outputs": [
    {
     "name": "stdout",
     "output_type": "stream",
     "text": [
      "Address: 123 Park Street, Price: ₹5000000\n",
      "Address: 1 Royal Avenue, Price: ₹25000000, Rooms: 10\n"
     ]
    }
   ],
   "source": [
    "# Que-18 Create a class House with attributes address and price. Create a derived class Mansion that adds an attribute number_of_rooms.\n",
    "# Base class\n",
    "class House:\n",
    "    def __init__(self, address, price):\n",
    "        self.address = address\n",
    "        self.price = price\n",
    "\n",
    "    def get_info(self):\n",
    "        return f\"Address: {self.address}, Price: ₹{self.price}\"\n",
    "\n",
    "class Mansion(House):\n",
    "    def __init__(self, address, price, number_of_rooms):\n",
    "        super().__init__(address, price)  # Call the base class constructor\n",
    "        self.number_of_rooms = number_of_rooms\n",
    "\n",
    "    def get_info(self):\n",
    "        base_info = super().get_info()\n",
    "        return f\"{base_info}, Rooms: {self.number_of_rooms}\"\n",
    "\n",
    "\n",
    "house = House(\"123 Park Street\", 5000000)\n",
    "print(house.get_info())\n",
    "\n",
    "mansion = Mansion(\"1 Royal Avenue\", 25000000, 10)\n",
    "print(mansion.get_info())\n"
   ]
  },
  {
   "cell_type": "code",
   "execution_count": null,
   "id": "6d5199df-1044-48e9-b1ef-2d0b7fad6461",
   "metadata": {},
   "outputs": [],
   "source": []
  }
 ],
 "metadata": {
  "kernelspec": {
   "display_name": "Python 3 (ipykernel)",
   "language": "python",
   "name": "python3"
  },
  "language_info": {
   "codemirror_mode": {
    "name": "ipython",
    "version": 3
   },
   "file_extension": ".py",
   "mimetype": "text/x-python",
   "name": "python",
   "nbconvert_exporter": "python",
   "pygments_lexer": "ipython3",
   "version": "3.13.4"
  }
 },
 "nbformat": 4,
 "nbformat_minor": 5
}
